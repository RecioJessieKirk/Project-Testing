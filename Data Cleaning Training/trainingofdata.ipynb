{
 "cells": [
  {
   "cell_type": "markdown",
   "metadata": {},
   "source": [
    "## YOLOV5 FINE TUNING"
   ]
  },
  {
   "cell_type": "markdown",
   "metadata": {},
   "source": [
    "### COCO DATASET"
   ]
  },
  {
   "cell_type": "code",
   "execution_count": null,
   "metadata": {},
   "outputs": [],
   "source": [
    "import os\n",
    "\n",
    "# Set paths\n",
    "DATASET_YAML = \"dataset.yaml\"  # Update this if your dataset.yaml is in a different location\n",
    "MODEL_PATH = \"yolov5nu.pt\"  # Path to your pre-trained YOLOv5 model\n",
    "EPOCHS = 100  # Number of training epochs (adjust as needed)\n",
    "BATCH_SIZE = 16  # Adjust based on your GPU memory\n",
    "IMG_SIZE = 640  # Input image size (default: 640x640)\n",
    "DEVICE = \"cuda\"  # Set to \"cpu\" if you don’t have a GPU\n",
    "\n",
    "# Run YOLOv5 training\n",
    "os.system(f\"python yolov5/train.py --img {IMG_SIZE} --batch {BATCH_SIZE} --epochs {EPOCHS} \"\n",
    "          f\"--data {DATASET_YAML} --weights {MODEL_PATH} --device {DEVICE} --workers 4\")\n",
    "\n",
    "print(\"Training completed!\")\n"
   ]
  },
  {
   "cell_type": "markdown",
   "metadata": {},
   "source": [
    "### POTHOLE DATASET"
   ]
  },
  {
   "cell_type": "code",
   "execution_count": null,
   "metadata": {},
   "outputs": [],
   "source": [
    "import os\n",
    "\n",
    "# Set paths\n",
    "DATASET_YAML = \"pothole.yaml\"  # Make sure this points to your dataset.yaml\n",
    "MODEL_PATH = \"yolov5nu.pt\"  # Your pre-trained YOLOv5 model\n",
    "EPOCHS = 100  # Adjust epochs as needed\n",
    "BATCH_SIZE = 16  # Modify based on your GPU memory\n",
    "IMG_SIZE = 640  # Input image size (default: 640x640)\n",
    "DEVICE = \"cuda\" \n",
    "\n",
    "# Run YOLOv5 training\n",
    "os.system(f\"python yolov5/train.py --img {IMG_SIZE} --batch {BATCH_SIZE} --epochs {EPOCHS} \"\n",
    "          f\"--data {DATASET_YAML} --weights {MODEL_PATH} --device {DEVICE} --workers 4\")\n",
    "\n",
    "print(\"✅ Training completed!\")\n"
   ]
  },
  {
   "cell_type": "markdown",
   "metadata": {},
   "source": [
    "## EASY OCR "
   ]
  },
  {
   "cell_type": "markdown",
   "metadata": {},
   "source": [
    "### ICDAR 2015 DATASET"
   ]
  },
  {
   "cell_type": "code",
   "execution_count": null,
   "metadata": {},
   "outputs": [],
   "source": []
  }
 ],
 "metadata": {
  "kernelspec": {
   "display_name": "Python 3",
   "language": "python",
   "name": "python3"
  },
  "language_info": {
   "name": "python",
   "version": "3.12.9"
  }
 },
 "nbformat": 4,
 "nbformat_minor": 2
}
