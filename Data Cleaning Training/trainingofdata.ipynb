{
 "cells": [
  {
   "cell_type": "markdown",
   "metadata": {},
   "source": [
    "## YOLOV5 FINE TUNING"
   ]
  },
  {
   "cell_type": "markdown",
   "metadata": {},
   "source": [
    "### COCO DATASET"
   ]
  },
  {
   "cell_type": "code",
   "execution_count": 3,
   "metadata": {},
   "outputs": [
    {
     "name": "stderr",
     "output_type": "stream",
     "text": [
      "Training Progress:   0%|          | 0/100 [00:00<?, ?epoch/s]"
     ]
    },
    {
     "name": "stdout",
     "output_type": "stream",
     "text": [
      "Error decoding JSON from C:\\Users\\Kirk Recio\\AppData\\Roaming\\Ultralytics\\persistent_cache.json. Starting with an empty dictionary.\n",
      "\u001b[34m\u001b[1mtrain: \u001b[0mweights=yolov5nu.pt, cfg=, data=dataset.yaml, hyp=yolov5\\data\\hyps\\hyp.scratch-low.yaml, epochs=100, batch_size=16, imgsz=640, rect=False, resume=False, nosave=False, noval=False, noautoanchor=False, noplots=False, evolve=None, evolve_population=yolov5\\data\\hyps, resume_evolve=None, bucket=, cache=None, image_weights=False, device=cuda, multi_scale=False, single_cls=False, optimizer=SGD, sync_bn=False, workers=4, project=yolov5\\runs\\train, name=exp, exist_ok=False, quad=False, cos_lr=False, label_smoothing=0.0, patience=100, freeze=[0], save_period=-1, seed=0, local_rank=-1, entity=None, upload_dataset=False, bbox_interval=-1, artifact_alias=latest, ndjson_console=False, ndjson_file=False\n",
      "\u001b[34m\u001b[1mgithub: \u001b[0m YOLOv5 is out of date by 5 commits. Use 'git pull' or 'git clone https://github.com/ultralytics/yolov5' to update.\n",
      "fatal: cannot change to 'C:\\Users\\Kirk': Invalid argument\n",
      "Traceback (most recent call last):\n",
      "  File \"c:\\Users\\Kirk Recio\\Documents\\PYTHON\\Project Testing\\Data Cleaning Training\\yolov5\\train.py\", line 986, in <module>\n",
      "    main(opt)\n",
      "  File \"c:\\Users\\Kirk Recio\\Documents\\PYTHON\\Project Testing\\Data Cleaning Training\\yolov5\\train.py\", line 672, in main\n",
      "    device = select_device(opt.device, batch_size=opt.batch_size)\n",
      "             ^^^^^^^^^^^^^^^^^^^^^^^^^^^^^^^^^^^^^^^^^^^^^^^^^^^^\n",
      "  File \"c:\\Users\\Kirk Recio\\Documents\\PYTHON\\Project Testing\\Data Cleaning Training\\yolov5\\utils\\torch_utils.py\", line 124, in select_device\n",
      "    assert torch.cuda.is_available() and torch.cuda.device_count() >= len(device.replace(\",\", \"\")), (\n",
      "           ^^^^^^^^^^^^^^^^^^^^^^^^^^^^^^^^^^^^^^^^^^^^^^^^^^^^^^^^^^^^^^^^^^^^^^^^^^^^^^^^^^^^^^^\n",
      "AssertionError: Invalid CUDA '--device cuda' requested, use '--device cpu' or pass valid CUDA device(s)\n"
     ]
    },
    {
     "name": "stderr",
     "output_type": "stream",
     "text": [
      "Training Progress:   0%|          | 0/100 [00:15<?, ?epoch/s]"
     ]
    },
    {
     "name": "stdout",
     "output_type": "stream",
     "text": [
      "\n",
      "✅ Training completed!\n"
     ]
    },
    {
     "name": "stderr",
     "output_type": "stream",
     "text": [
      "\n"
     ]
    }
   ],
   "source": [
    "import subprocess\n",
    "import re\n",
    "import time\n",
    "import os\n",
    "from tqdm import tqdm\n",
    "\n",
    "# Set paths\n",
    "DATASET_YAML = \"dataset.yaml\"  # Update if needed\n",
    "MODEL_PATH = \"yolov5nu.pt\"  # Pre-trained YOLOv5 model\n",
    "EPOCHS = 100  # Training epochs\n",
    "BATCH_SIZE = 16  # Adjust based on GPU memory\n",
    "IMG_SIZE = 640  # Image size\n",
    "DEVICE = \"cuda\"  # Use \"cpu\" if no GPU\n",
    "WORKERS = str(min(4, max(1, os.cpu_count() // 2)))  # Auto-set workers\n",
    "\n",
    "# Training command\n",
    "command = [\n",
    "    \"python\", \"yolov5/train.py\",\n",
    "    \"--img\", str(IMG_SIZE),\n",
    "    \"--batch\", str(BATCH_SIZE),\n",
    "    \"--epochs\", str(EPOCHS),\n",
    "    \"--data\", DATASET_YAML,\n",
    "    \"--weights\", MODEL_PATH,\n",
    "    \"--device\", DEVICE,\n",
    "    \"--workers\", WORKERS\n",
    "]\n",
    "\n",
    "# Initialize tqdm progress bar\n",
    "pbar = tqdm(total=EPOCHS, desc=\"Training Progress\", unit=\"epoch\", dynamic_ncols=True)\n",
    "\n",
    "# Start training process\n",
    "start_time = time.time()\n",
    "with subprocess.Popen(command, stdout=subprocess.PIPE, stderr=subprocess.STDOUT, text=True, bufsize=1) as process:\n",
    "    for line in process.stdout:\n",
    "        print(line, end=\"\")  # Print training logs in real-time\n",
    "\n",
    "        # Match YOLOv5 epoch progress\n",
    "        match = re.search(r\"Epoch\\s+(\\d+)/(\\d+)\", line)\n",
    "        if match:\n",
    "            current_epoch = int(match.group(1))\n",
    "            total_epochs = int(match.group(2))\n",
    "\n",
    "            # Update tqdm progress bar\n",
    "            pbar.n = current_epoch\n",
    "            elapsed_time = time.time() - start_time\n",
    "            avg_time_per_epoch = elapsed_time / max(1, current_epoch)\n",
    "            remaining_time = avg_time_per_epoch * (total_epochs - current_epoch)\n",
    "\n",
    "            pbar.set_description(f\"Training Progress ⏳ {remaining_time:.2f} sec remaining\")\n",
    "            pbar.update(1)  # Move progress forward\n",
    "\n",
    "pbar.close()\n",
    "process.wait()  # Ensure process finishes\n",
    "print(\"\\n✅ Training completed!\")\n"
   ]
  },
  {
   "cell_type": "code",
   "execution_count": 24,
   "metadata": {},
   "outputs": [
    {
     "name": "stdout",
     "output_type": "stream",
     "text": [
      " Volume in drive C is Acer\n",
      " Volume Serial Number is 8460-89F9\n",
      "\n",
      " Directory of c:\\Users\\Kirk Recio\\Documents\\PYTHON\\Project Testing\\Data Cleaning Training\\yolov5\n",
      "\n",
      "03/24/2025  03:01 PM    <DIR>          .\n",
      "03/24/2025  05:51 PM    <DIR>          ..\n",
      "03/24/2025  01:20 PM             3,923 .dockerignore\n",
      "03/24/2025  01:20 PM                77 .gitattributes\n",
      "03/24/2025  01:20 PM    <DIR>          .github\n",
      "03/24/2025  01:20 PM             4,268 .gitignore\n",
      "03/24/2025  01:27 PM    <DIR>          __pycache__\n",
      "03/24/2025  01:20 PM            14,440 benchmarks.py\n",
      "03/24/2025  01:20 PM               407 CITATION.cff\n",
      "03/24/2025  01:20 PM    <DIR>          classify\n",
      "03/24/2025  01:20 PM             5,082 CONTRIBUTING.md\n",
      "03/24/2025  01:20 PM    <DIR>          data\n",
      "03/24/2025  01:20 PM            24,199 detect.py\n",
      "03/24/2025  01:20 PM            70,122 export.py\n",
      "03/24/2025  01:20 PM            24,504 hubconf.py\n",
      "03/24/2025  01:20 PM            35,184 LICENSE\n",
      "03/24/2025  01:27 PM    <DIR>          models\n",
      "03/24/2025  01:20 PM             5,550 pyproject.toml\n",
      "03/24/2025  01:20 PM            43,990 README.md\n",
      "03/24/2025  01:20 PM            44,010 README.zh-CN.md\n",
      "03/24/2025  01:20 PM             1,647 requirements.txt\n",
      "03/24/2025  02:10 PM    <DIR>          runs\n",
      "03/24/2025  01:20 PM    <DIR>          segment\n",
      "03/24/2025  01:20 PM            48,143 train.py\n",
      "03/24/2025  01:20 PM            42,051 tutorial.ipynb\n",
      "03/24/2025  01:28 PM    <DIR>          utils\n",
      "03/24/2025  01:20 PM            31,053 val.py\n",
      "11/21/2024  06:49 PM         5,562,759 yolov5nu.pt\n",
      "              18 File(s)      5,961,409 bytes\n",
      "              10 Dir(s)  14,769,971,200 bytes free\n"
     ]
    }
   ],
   "source": [
    "%ls"
   ]
  },
  {
   "cell_type": "markdown",
   "metadata": {},
   "source": [
    "### COCO DATASET 2 "
   ]
  },
  {
   "cell_type": "code",
   "execution_count": 20,
   "metadata": {},
   "outputs": [
    {
     "name": "stdout",
     "output_type": "stream",
     "text": [
      "{'train': '../cocosubset/train2017', 'val': '../cocosubset/val2017', 'nc': 80, 'names': ['person', 'bicycle', 'car', 'motorcycle', 'airplane', 'bus', 'train', 'truck', 'boat', 'traffic light', 'fire hydrant', 'stop sign', 'parking meter', 'bench', 'bird', 'cat', 'dog', 'horse', 'sheep', 'cow', 'elephant', 'bear', 'zebra', 'giraffe', 'backpack', 'umbrella', 'handbag', 'tie', 'suitcase', 'frisbee', 'skis', 'snowboard', 'sports ball', 'kite', 'baseball bat', 'baseball glove', 'skateboard', 'surfboard', 'tennis racket', 'bottle', 'wine glass', 'cup', 'fork', 'knife', 'spoon', 'bowl', 'banana', 'apple', 'sandwich', 'orange', 'broccoli', 'carrot', 'hot dog', 'pizza', 'donut', 'cake', 'chair', 'couch', 'potted plant', 'bed', 'dining table', 'toilet', 'TV', 'laptop', 'mouse', 'remote', 'keyboard', 'cell phone', 'microwave', 'oven', 'toaster', 'sink', 'refrigerator', 'book', 'clock', 'vase', 'scissors', 'teddy bear', 'hair drier', 'toothbrush']}\n"
     ]
    }
   ],
   "source": [
    "import yaml\n",
    "print(yaml.safe_load(open(\"dataset.yaml\")))\n"
   ]
  },
  {
   "cell_type": "markdown",
   "metadata": {},
   "source": [
    "### ALMOST WORKING "
   ]
  },
  {
   "cell_type": "code",
   "execution_count": 21,
   "metadata": {},
   "outputs": [
    {
     "name": "stdout",
     "output_type": "stream",
     "text": [
      "c:\\Users\\Kirk Recio\\Documents\\PYTHON\\Project Testing\\Data Cleaning Training\n",
      "c:\\Users\\Kirk Recio\\Documents\\PYTHON\\Project Testing\\Data Cleaning Training\\yolov5\n"
     ]
    },
    {
     "name": "stderr",
     "output_type": "stream",
     "text": [
      "\u001b[34m\u001b[1mtrain: \u001b[0mweights=yolov5n.pt, cfg=, data=../cocosubset/dataset.yaml, hyp=data\\hyps\\hyp.scratch-low.yaml, epochs=1, batch_size=16, imgsz=640, rect=False, resume=False, nosave=False, noval=False, noautoanchor=False, noplots=False, evolve=None, evolve_population=data\\hyps, resume_evolve=None, bucket=, cache=None, image_weights=False, device=, multi_scale=False, single_cls=False, optimizer=SGD, sync_bn=False, workers=8, project=runs\\train, name=exp, exist_ok=False, quad=False, cos_lr=False, label_smoothing=0.0, patience=100, freeze=[0], save_period=-1, seed=0, local_rank=-1, entity=None, upload_dataset=False, bbox_interval=-1, artifact_alias=latest, ndjson_console=False, ndjson_file=False\n",
      "\u001b[34m\u001b[1mgithub: \u001b[0mup to date with https://github.com/ultralytics/yolov5 \n",
      "fatal: cannot change to 'C:\\Users\\Kirk': Invalid argument\n",
      "YOLOv5  2025-3-24 Python-3.12.9 torch-2.6.0+cu124 CUDA:0 (NVIDIA GeForce RTX 3050 Laptop GPU, 4096MiB)\n",
      "\n",
      "\u001b[34m\u001b[1mhyperparameters: \u001b[0mlr0=0.01, lrf=0.01, momentum=0.937, weight_decay=0.0005, warmup_epochs=3.0, warmup_momentum=0.8, warmup_bias_lr=0.1, box=0.05, cls=0.5, cls_pw=1.0, obj=1.0, obj_pw=1.0, iou_t=0.2, anchor_t=4.0, fl_gamma=0.0, hsv_h=0.015, hsv_s=0.7, hsv_v=0.4, degrees=0.0, translate=0.1, scale=0.5, shear=0.0, perspective=0.0, flipud=0.0, fliplr=0.5, mosaic=1.0, mixup=0.0, copy_paste=0.0\n",
      "\u001b[34m\u001b[1mComet: \u001b[0mrun 'pip install comet_ml' to automatically track and visualize YOLOv5  runs in Comet\n",
      "\u001b[34m\u001b[1mTensorBoard: \u001b[0mStart with 'tensorboard --logdir runs\\train', view at http://localhost:6006/\n",
      "\n",
      "                 from  n    params  module                                  arguments                     \n",
      "  0                -1  1      1760  models.common.Conv                      [3, 16, 6, 2, 2]              \n",
      "  1                -1  1      4672  models.common.Conv                      [16, 32, 3, 2]                \n",
      "  2                -1  1      4800  models.common.C3                        [32, 32, 1]                   \n",
      "  3                -1  1     18560  models.common.Conv                      [32, 64, 3, 2]                \n",
      "  4                -1  2     29184  models.common.C3                        [64, 64, 2]                   \n",
      "  5                -1  1     73984  models.common.Conv                      [64, 128, 3, 2]               \n",
      "  6                -1  3    156928  models.common.C3                        [128, 128, 3]                 \n",
      "  7                -1  1    295424  models.common.Conv                      [128, 256, 3, 2]              \n",
      "  8                -1  1    296448  models.common.C3                        [256, 256, 1]                 \n",
      "  9                -1  1    164608  models.common.SPPF                      [256, 256, 5]                 \n",
      " 10                -1  1     33024  models.common.Conv                      [256, 128, 1, 1]              \n",
      " 11                -1  1         0  torch.nn.modules.upsampling.Upsample    [None, 2, 'nearest']          \n",
      " 12           [-1, 6]  1         0  models.common.Concat                    [1]                           \n",
      " 13                -1  1     90880  models.common.C3                        [256, 128, 1, False]          \n",
      " 14                -1  1      8320  models.common.Conv                      [128, 64, 1, 1]               \n",
      " 15                -1  1         0  torch.nn.modules.upsampling.Upsample    [None, 2, 'nearest']          \n",
      " 16           [-1, 4]  1         0  models.common.Concat                    [1]                           \n",
      " 17                -1  1     22912  models.common.C3                        [128, 64, 1, False]           \n",
      " 18                -1  1     36992  models.common.Conv                      [64, 64, 3, 2]                \n",
      " 19          [-1, 14]  1         0  models.common.Concat                    [1]                           \n",
      " 20                -1  1     74496  models.common.C3                        [128, 128, 1, False]          \n",
      " 21                -1  1    147712  models.common.Conv                      [128, 128, 3, 2]              \n",
      " 22          [-1, 10]  1         0  models.common.Concat                    [1]                           \n",
      " 23                -1  1    296448  models.common.C3                        [256, 256, 1, False]          \n",
      " 24      [17, 20, 23]  1    115005  models.yolo.Detect                      [80, [[10, 13, 16, 30, 33, 23], [30, 61, 62, 45, 59, 119], [116, 90, 156, 198, 373, 326]], [64, 128, 256]]\n",
      "Model summary: 214 layers, 1872157 parameters, 1872157 gradients, 4.6 GFLOPs\n",
      "\n",
      "Transferred 349/349 items from yolov5n.pt\n",
      "c:\\Users\\Kirk Recio\\Documents\\PYTHON\\Project Testing\\Data Cleaning Training\\yolov5\\models\\common.py:894: FutureWarning: `torch.cuda.amp.autocast(args...)` is deprecated. Please use `torch.amp.autocast('cuda', args...)` instead.\n",
      "  with amp.autocast(autocast):\n",
      "c:\\Users\\Kirk Recio\\Documents\\PYTHON\\Project Testing\\Data Cleaning Training\\yolov5\\models\\common.py:894: FutureWarning: `torch.cuda.amp.autocast(args...)` is deprecated. Please use `torch.amp.autocast('cuda', args...)` instead.\n",
      "  with amp.autocast(autocast):\n",
      "\u001b[34m\u001b[1mAMP: \u001b[0mchecks passed \n",
      "\u001b[34m\u001b[1moptimizer:\u001b[0m SGD(lr=0.01) with parameter groups 57 weight(decay=0.0), 60 weight(decay=0.0005), 60 bias\n",
      "\n",
      "\u001b[34m\u001b[1mtrain: \u001b[0mScanning C:\\Users\\Kirk Recio\\Documents\\PYTHON\\Project Testing\\Data Cleaning Training\\cocosubset\\labels\\train2017...:   0%|          | 0/5600 [00:00<?, ?it/s]\n",
      "\u001b[34m\u001b[1mtrain: \u001b[0mScanning C:\\Users\\Kirk Recio\\Documents\\PYTHON\\Project Testing\\Data Cleaning Training\\cocosubset\\labels\\train2017... 1 images, 0 backgrounds, 0 corrupt:   0%|          | 1/5600 [00:45<70:31:58, 45.35s/it]\n",
      "\u001b[34m\u001b[1mtrain: \u001b[0mScanning C:\\Users\\Kirk Recio\\Documents\\PYTHON\\Project Testing\\Data Cleaning Training\\cocosubset\\labels\\train2017... 349 images, 8 backgrounds, 14 corrupt:   6%|▋         | 357/5600 [00:45<07:48, 11.20it/s]\n",
      "\u001b[34m\u001b[1mtrain: \u001b[0mScanning C:\\Users\\Kirk Recio\\Documents\\PYTHON\\Project Testing\\Data Cleaning Training\\cocosubset\\labels\\train2017... 702 images, 10 backgrounds, 20 corrupt:  13%|█▎        | 712/5600 [00:45<03:02, 26.78it/s]\n",
      "\u001b[34m\u001b[1mtrain: \u001b[0mScanning C:\\Users\\Kirk Recio\\Documents\\PYTHON\\Project Testing\\Data Cleaning Training\\cocosubset\\labels\\train2017... 916 images, 16 backgrounds, 25 corrupt:  17%|█▋        | 932/5600 [00:46<01:57, 39.78it/s]\n",
      "\u001b[34m\u001b[1mtrain: \u001b[0mScanning C:\\Users\\Kirk Recio\\Documents\\PYTHON\\Project Testing\\Data Cleaning Training\\cocosubset\\labels\\train2017... 1063 images, 16 backgrounds, 28 corrupt:  19%|█▉        | 1079/5600 [00:46<01:27, 51.44it/s]\n",
      "\u001b[34m\u001b[1mtrain: \u001b[0mScanning C:\\Users\\Kirk Recio\\Documents\\PYTHON\\Project Testing\\Data Cleaning Training\\cocosubset\\labels\\train2017... 1172 images, 16 backgrounds, 31 corrupt:  21%|██        | 1188/5600 [00:46<01:09, 63.20it/s]\n",
      "\u001b[34m\u001b[1mtrain: \u001b[0mScanning C:\\Users\\Kirk Recio\\Documents\\PYTHON\\Project Testing\\Data Cleaning Training\\cocosubset\\labels\\train2017... 1260 images, 16 backgrounds, 32 corrupt:  23%|██▎       | 1276/5600 [00:46<00:57, 75.86it/s]\n",
      "\u001b[34m\u001b[1mtrain: \u001b[0mScanning C:\\Users\\Kirk Recio\\Documents\\PYTHON\\Project Testing\\Data Cleaning Training\\cocosubset\\labels\\train2017... 1333 images, 18 backgrounds, 33 corrupt:  24%|██▍       | 1351/5600 [00:46<00:46, 90.72it/s]\n",
      "\u001b[34m\u001b[1mtrain: \u001b[0mScanning C:\\Users\\Kirk Recio\\Documents\\PYTHON\\Project Testing\\Data Cleaning Training\\cocosubset\\labels\\train2017... 1401 images, 18 backgrounds, 34 corrupt:  25%|██▌       | 1419/5600 [00:47<00:38, 108.35it/s]\n",
      "\u001b[34m\u001b[1mtrain: \u001b[0mScanning C:\\Users\\Kirk Recio\\Documents\\PYTHON\\Project Testing\\Data Cleaning Training\\cocosubset\\labels\\train2017... 1464 images, 18 backgrounds, 34 corrupt:  26%|██▋       | 1482/5600 [00:47<00:31, 130.08it/s]\n",
      "\u001b[34m\u001b[1mtrain: \u001b[0mScanning C:\\Users\\Kirk Recio\\Documents\\PYTHON\\Project Testing\\Data Cleaning Training\\cocosubset\\labels\\train2017... 1525 images, 18 backgrounds, 35 corrupt:  28%|██▊       | 1543/5600 [00:47<00:26, 155.98it/s]\n",
      "\u001b[34m\u001b[1mtrain: \u001b[0mScanning C:\\Users\\Kirk Recio\\Documents\\PYTHON\\Project Testing\\Data Cleaning Training\\cocosubset\\labels\\train2017... 1582 images, 19 backgrounds, 36 corrupt:  29%|██▊       | 1601/5600 [00:47<00:21, 185.97it/s]\n",
      "\u001b[34m\u001b[1mtrain: \u001b[0mScanning C:\\Users\\Kirk Recio\\Documents\\PYTHON\\Project Testing\\Data Cleaning Training\\cocosubset\\labels\\train2017... 1637 images, 20 backgrounds, 37 corrupt:  30%|██▉       | 1657/5600 [00:47<00:17, 219.06it/s]\n",
      "\u001b[34m\u001b[1mtrain: \u001b[0mScanning C:\\Users\\Kirk Recio\\Documents\\PYTHON\\Project Testing\\Data Cleaning Training\\cocosubset\\labels\\train2017... 1691 images, 20 backgrounds, 39 corrupt:  31%|███       | 1711/5600 [00:47<00:15, 251.15it/s]\n",
      "\u001b[34m\u001b[1mtrain: \u001b[0mScanning C:\\Users\\Kirk Recio\\Documents\\PYTHON\\Project Testing\\Data Cleaning Training\\cocosubset\\labels\\train2017... 1754 images, 21 backgrounds, 39 corrupt:  32%|███▏      | 1775/5600 [00:47<00:12, 302.97it/s]\n",
      "\u001b[34m\u001b[1mtrain: \u001b[0mScanning C:\\Users\\Kirk Recio\\Documents\\PYTHON\\Project Testing\\Data Cleaning Training\\cocosubset\\labels\\train2017... 1813 images, 22 backgrounds, 40 corrupt:  33%|███▎      | 1835/5600 [00:47<00:11, 338.14it/s]\n",
      "\u001b[34m\u001b[1mtrain: \u001b[0mScanning C:\\Users\\Kirk Recio\\Documents\\PYTHON\\Project Testing\\Data Cleaning Training\\cocosubset\\labels\\train2017... 1895 images, 22 backgrounds, 41 corrupt:  34%|███▍      | 1917/5600 [00:47<00:08, 415.20it/s]\n",
      "\u001b[34m\u001b[1mtrain: \u001b[0mScanning C:\\Users\\Kirk Recio\\Documents\\PYTHON\\Project Testing\\Data Cleaning Training\\cocosubset\\labels\\train2017... 1954 images, 22 backgrounds, 41 corrupt:  35%|███▌      | 1976/5600 [00:48<00:08, 443.48it/s]\n",
      "\u001b[34m\u001b[1mtrain: \u001b[0mScanning C:\\Users\\Kirk Recio\\Documents\\PYTHON\\Project Testing\\Data Cleaning Training\\cocosubset\\labels\\train2017... 2023 images, 23 backgrounds, 42 corrupt:  37%|███▋      | 2046/5600 [00:48<00:07, 499.90it/s]\n",
      "\u001b[34m\u001b[1mtrain: \u001b[0mScanning C:\\Users\\Kirk Recio\\Documents\\PYTHON\\Project Testing\\Data Cleaning Training\\cocosubset\\labels\\train2017... 2083 images, 24 backgrounds, 42 corrupt:  38%|███▊      | 2107/5600 [00:48<00:06, 516.68it/s]\n",
      "\u001b[34m\u001b[1mtrain: \u001b[0mScanning C:\\Users\\Kirk Recio\\Documents\\PYTHON\\Project Testing\\Data Cleaning Training\\cocosubset\\labels\\train2017... 2143 images, 24 backgrounds, 44 corrupt:  39%|███▊      | 2167/5600 [00:48<00:06, 502.99it/s]\n",
      "\u001b[34m\u001b[1mtrain: \u001b[0mScanning C:\\Users\\Kirk Recio\\Documents\\PYTHON\\Project Testing\\Data Cleaning Training\\cocosubset\\labels\\train2017... 2207 images, 26 backgrounds, 47 corrupt:  40%|███▉      | 2233/5600 [00:48<00:06, 538.32it/s]\n",
      "\u001b[34m\u001b[1mtrain: \u001b[0mScanning C:\\Users\\Kirk Recio\\Documents\\PYTHON\\Project Testing\\Data Cleaning Training\\cocosubset\\labels\\train2017... 2265 images, 27 backgrounds, 47 corrupt:  41%|████      | 2292/5600 [00:48<00:06, 544.10it/s]\n",
      "\u001b[34m\u001b[1mtrain: \u001b[0mScanning C:\\Users\\Kirk Recio\\Documents\\PYTHON\\Project Testing\\Data Cleaning Training\\cocosubset\\labels\\train2017... 2323 images, 27 backgrounds, 50 corrupt:  42%|████▏     | 2350/5600 [00:48<00:05, 549.86it/s]\n",
      "\u001b[34m\u001b[1mtrain: \u001b[0mScanning C:\\Users\\Kirk Recio\\Documents\\PYTHON\\Project Testing\\Data Cleaning Training\\cocosubset\\labels\\train2017... 2381 images, 27 backgrounds, 52 corrupt:  43%|████▎     | 2408/5600 [00:48<00:05, 552.62it/s]\n",
      "\u001b[34m\u001b[1mtrain: \u001b[0mScanning C:\\Users\\Kirk Recio\\Documents\\PYTHON\\Project Testing\\Data Cleaning Training\\cocosubset\\labels\\train2017... 2437 images, 28 backgrounds, 53 corrupt:  44%|████▍     | 2465/5600 [00:48<00:05, 541.75it/s]\n",
      "\u001b[34m\u001b[1mtrain: \u001b[0mScanning C:\\Users\\Kirk Recio\\Documents\\PYTHON\\Project Testing\\Data Cleaning Training\\cocosubset\\labels\\train2017... 2493 images, 28 backgrounds, 54 corrupt:  45%|████▌     | 2521/5600 [00:49<00:05, 528.37it/s]\n",
      "\u001b[34m\u001b[1mtrain: \u001b[0mScanning C:\\Users\\Kirk Recio\\Documents\\PYTHON\\Project Testing\\Data Cleaning Training\\cocosubset\\labels\\train2017... 2548 images, 29 backgrounds, 55 corrupt:  46%|████▌     | 2577/5600 [00:49<00:05, 532.01it/s]\n",
      "\u001b[34m\u001b[1mtrain: \u001b[0mScanning C:\\Users\\Kirk Recio\\Documents\\PYTHON\\Project Testing\\Data Cleaning Training\\cocosubset\\labels\\train2017... 2614 images, 30 backgrounds, 55 corrupt:  47%|████▋     | 2644/5600 [00:49<00:05, 569.20it/s]\n",
      "\u001b[34m\u001b[1mtrain: \u001b[0mScanning C:\\Users\\Kirk Recio\\Documents\\PYTHON\\Project Testing\\Data Cleaning Training\\cocosubset\\labels\\train2017... 2677 images, 30 backgrounds, 55 corrupt:  48%|████▊     | 2707/5600 [00:49<00:05, 571.40it/s]\n",
      "\u001b[34m\u001b[1mtrain: \u001b[0mScanning C:\\Users\\Kirk Recio\\Documents\\PYTHON\\Project Testing\\Data Cleaning Training\\cocosubset\\labels\\train2017... 2739 images, 30 backgrounds, 57 corrupt:  49%|████▉     | 2769/5600 [00:49<00:04, 581.36it/s]\n",
      "\u001b[34m\u001b[1mtrain: \u001b[0mScanning C:\\Users\\Kirk Recio\\Documents\\PYTHON\\Project Testing\\Data Cleaning Training\\cocosubset\\labels\\train2017... 2806 images, 32 backgrounds, 57 corrupt:  51%|█████     | 2838/5600 [00:49<00:04, 605.35it/s]\n",
      "\u001b[34m\u001b[1mtrain: \u001b[0mScanning C:\\Users\\Kirk Recio\\Documents\\PYTHON\\Project Testing\\Data Cleaning Training\\cocosubset\\labels\\train2017... 2867 images, 32 backgrounds, 58 corrupt:  52%|█████▏    | 2899/5600 [00:49<00:04, 588.09it/s]\n",
      "\u001b[34m\u001b[1mtrain: \u001b[0mScanning C:\\Users\\Kirk Recio\\Documents\\PYTHON\\Project Testing\\Data Cleaning Training\\cocosubset\\labels\\train2017... 2927 images, 32 backgrounds, 60 corrupt:  53%|█████▎    | 2959/5600 [00:49<00:04, 536.02it/s]\n",
      "\u001b[34m\u001b[1mtrain: \u001b[0mScanning C:\\Users\\Kirk Recio\\Documents\\PYTHON\\Project Testing\\Data Cleaning Training\\cocosubset\\labels\\train2017... 2983 images, 32 backgrounds, 60 corrupt:  54%|█████▍    | 3015/5600 [00:49<00:04, 541.53it/s]\n",
      "\u001b[34m\u001b[1mtrain: \u001b[0mScanning C:\\Users\\Kirk Recio\\Documents\\PYTHON\\Project Testing\\Data Cleaning Training\\cocosubset\\labels\\train2017... 3042 images, 33 backgrounds, 65 corrupt:  55%|█████▍    | 3075/5600 [00:50<00:04, 548.33it/s]\n",
      "\u001b[34m\u001b[1mtrain: \u001b[0mScanning C:\\Users\\Kirk Recio\\Documents\\PYTHON\\Project Testing\\Data Cleaning Training\\cocosubset\\labels\\train2017... 3113 images, 33 backgrounds, 67 corrupt:  56%|█████▌    | 3146/5600 [00:50<00:04, 585.39it/s]\n",
      "\u001b[34m\u001b[1mtrain: \u001b[0mScanning C:\\Users\\Kirk Recio\\Documents\\PYTHON\\Project Testing\\Data Cleaning Training\\cocosubset\\labels\\train2017... 3172 images, 34 backgrounds, 68 corrupt:  57%|█████▋    | 3206/5600 [00:50<00:04, 583.88it/s]\n",
      "\u001b[34m\u001b[1mtrain: \u001b[0mScanning C:\\Users\\Kirk Recio\\Documents\\PYTHON\\Project Testing\\Data Cleaning Training\\cocosubset\\labels\\train2017... 3231 images, 34 backgrounds, 68 corrupt:  58%|█████▊    | 3265/5600 [00:50<00:04, 566.44it/s]\n",
      "\u001b[34m\u001b[1mtrain: \u001b[0mScanning C:\\Users\\Kirk Recio\\Documents\\PYTHON\\Project Testing\\Data Cleaning Training\\cocosubset\\labels\\train2017... 3297 images, 34 backgrounds, 69 corrupt:  59%|█████▉    | 3331/5600 [00:50<00:03, 589.41it/s]\n",
      "\u001b[34m\u001b[1mtrain: \u001b[0mScanning C:\\Users\\Kirk Recio\\Documents\\PYTHON\\Project Testing\\Data Cleaning Training\\cocosubset\\labels\\train2017... 3357 images, 34 backgrounds, 71 corrupt:  61%|██████    | 3391/5600 [00:50<00:03, 579.01it/s]\n",
      "\u001b[34m\u001b[1mtrain: \u001b[0mScanning C:\\Users\\Kirk Recio\\Documents\\PYTHON\\Project Testing\\Data Cleaning Training\\cocosubset\\labels\\train2017... 3415 images, 35 backgrounds, 72 corrupt:  62%|██████▏   | 3450/5600 [00:50<00:03, 577.44it/s]\n",
      "\u001b[34m\u001b[1mtrain: \u001b[0mScanning C:\\Users\\Kirk Recio\\Documents\\PYTHON\\Project Testing\\Data Cleaning Training\\cocosubset\\labels\\train2017... 3473 images, 35 backgrounds, 73 corrupt:  63%|██████▎   | 3508/5600 [00:50<00:03, 568.92it/s]\n",
      "\u001b[34m\u001b[1mtrain: \u001b[0mScanning C:\\Users\\Kirk Recio\\Documents\\PYTHON\\Project Testing\\Data Cleaning Training\\cocosubset\\labels\\train2017... 3538 images, 36 backgrounds, 75 corrupt:  64%|██████▍   | 3574/5600 [00:50<00:03, 579.78it/s]\n",
      "\u001b[34m\u001b[1mtrain: \u001b[0mScanning C:\\Users\\Kirk Recio\\Documents\\PYTHON\\Project Testing\\Data Cleaning Training\\cocosubset\\labels\\train2017... 3601 images, 36 backgrounds, 76 corrupt:  65%|██████▍   | 3637/5600 [00:51<00:03, 587.08it/s]\n",
      "\u001b[34m\u001b[1mtrain: \u001b[0mScanning C:\\Users\\Kirk Recio\\Documents\\PYTHON\\Project Testing\\Data Cleaning Training\\cocosubset\\labels\\train2017... 3661 images, 36 backgrounds, 76 corrupt:  66%|██████▌   | 3697/5600 [00:51<00:03, 578.11it/s]\n",
      "\u001b[34m\u001b[1mtrain: \u001b[0mScanning C:\\Users\\Kirk Recio\\Documents\\PYTHON\\Project Testing\\Data Cleaning Training\\cocosubset\\labels\\train2017... 3719 images, 36 backgrounds, 77 corrupt:  67%|██████▋   | 3755/5600 [00:51<00:03, 556.80it/s]\n",
      "\u001b[34m\u001b[1mtrain: \u001b[0mScanning C:\\Users\\Kirk Recio\\Documents\\PYTHON\\Project Testing\\Data Cleaning Training\\cocosubset\\labels\\train2017... 3775 images, 36 backgrounds, 77 corrupt:  68%|██████▊   | 3811/5600 [00:51<00:03, 525.15it/s]\n",
      "\u001b[34m\u001b[1mtrain: \u001b[0mScanning C:\\Users\\Kirk Recio\\Documents\\PYTHON\\Project Testing\\Data Cleaning Training\\cocosubset\\labels\\train2017... 3829 images, 36 backgrounds, 77 corrupt:  69%|██████▉   | 3865/5600 [00:51<00:03, 527.05it/s]\n",
      "\u001b[34m\u001b[1mtrain: \u001b[0mScanning C:\\Users\\Kirk Recio\\Documents\\PYTHON\\Project Testing\\Data Cleaning Training\\cocosubset\\labels\\train2017... 3892 images, 37 backgrounds, 77 corrupt:  70%|███████   | 3929/5600 [00:51<00:02, 557.50it/s]\n",
      "\u001b[34m\u001b[1mtrain: \u001b[0mScanning C:\\Users\\Kirk Recio\\Documents\\PYTHON\\Project Testing\\Data Cleaning Training\\cocosubset\\labels\\train2017... 3949 images, 37 backgrounds, 77 corrupt:  71%|███████   | 3986/5600 [00:51<00:02, 548.55it/s]\n",
      "\u001b[34m\u001b[1mtrain: \u001b[0mScanning C:\\Users\\Kirk Recio\\Documents\\PYTHON\\Project Testing\\Data Cleaning Training\\cocosubset\\labels\\train2017... 4009 images, 38 backgrounds, 78 corrupt:  72%|███████▏  | 4047/5600 [00:51<00:02, 563.96it/s]\n",
      "\u001b[34m\u001b[1mtrain: \u001b[0mScanning C:\\Users\\Kirk Recio\\Documents\\PYTHON\\Project Testing\\Data Cleaning Training\\cocosubset\\labels\\train2017... 4072 images, 38 backgrounds, 79 corrupt:  73%|███████▎  | 4110/5600 [00:51<00:02, 582.04it/s]\n",
      "\u001b[34m\u001b[1mtrain: \u001b[0mScanning C:\\Users\\Kirk Recio\\Documents\\PYTHON\\Project Testing\\Data Cleaning Training\\cocosubset\\labels\\train2017... 4130 images, 39 backgrounds, 80 corrupt:  74%|███████▍  | 4169/5600 [00:51<00:02, 575.81it/s]\n",
      "\u001b[34m\u001b[1mtrain: \u001b[0mScanning C:\\Users\\Kirk Recio\\Documents\\PYTHON\\Project Testing\\Data Cleaning Training\\cocosubset\\labels\\train2017... 4189 images, 42 backgrounds, 80 corrupt:  76%|███████▌  | 4231/5600 [00:52<00:02, 580.35it/s]\n",
      "\u001b[34m\u001b[1mtrain: \u001b[0mScanning C:\\Users\\Kirk Recio\\Documents\\PYTHON\\Project Testing\\Data Cleaning Training\\cocosubset\\labels\\train2017... 4252 images, 42 backgrounds, 80 corrupt:  77%|███████▋  | 4294/5600 [00:52<00:02, 582.41it/s]\n",
      "\u001b[34m\u001b[1mtrain: \u001b[0mScanning C:\\Users\\Kirk Recio\\Documents\\PYTHON\\Project Testing\\Data Cleaning Training\\cocosubset\\labels\\train2017... 4314 images, 43 backgrounds, 80 corrupt:  78%|███████▊  | 4357/5600 [00:52<00:02, 576.34it/s]\n",
      "\u001b[34m\u001b[1mtrain: \u001b[0mScanning C:\\Users\\Kirk Recio\\Documents\\PYTHON\\Project Testing\\Data Cleaning Training\\cocosubset\\labels\\train2017... 4377 images, 43 backgrounds, 81 corrupt:  79%|███████▉  | 4420/5600 [00:52<00:02, 588.18it/s]\n",
      "\u001b[34m\u001b[1mtrain: \u001b[0mScanning C:\\Users\\Kirk Recio\\Documents\\PYTHON\\Project Testing\\Data Cleaning Training\\cocosubset\\labels\\train2017... 4440 images, 43 backgrounds, 81 corrupt:  80%|████████  | 4483/5600 [00:52<00:01, 588.61it/s]\n",
      "\u001b[34m\u001b[1mtrain: \u001b[0mScanning C:\\Users\\Kirk Recio\\Documents\\PYTHON\\Project Testing\\Data Cleaning Training\\cocosubset\\labels\\train2017... 4499 images, 43 backgrounds, 81 corrupt:  81%|████████  | 4542/5600 [00:52<00:01, 577.19it/s]\n",
      "\u001b[34m\u001b[1mtrain: \u001b[0mScanning C:\\Users\\Kirk Recio\\Documents\\PYTHON\\Project Testing\\Data Cleaning Training\\cocosubset\\labels\\train2017... 4780 images, 43 backgrounds, 85 corrupt:  86%|████████▌ | 4823/5600 [00:52<00:00, 1215.12it/s]\n",
      "\u001b[34m\u001b[1mtrain: \u001b[0mScanning C:\\Users\\Kirk Recio\\Documents\\PYTHON\\Project Testing\\Data Cleaning Training\\cocosubset\\labels\\train2017... 5138 images, 47 backgrounds, 89 corrupt:  93%|█████████▎| 5185/5600 [00:52<00:00, 1909.36it/s]\n",
      "\u001b[34m\u001b[1mtrain: \u001b[0mScanning C:\\Users\\Kirk Recio\\Documents\\PYTHON\\Project Testing\\Data Cleaning Training\\cocosubset\\labels\\train2017... 5525 images, 49 backgrounds, 92 corrupt: 100%|█████████▉| 5574/5600 [00:52<00:00, 2483.12it/s]\n",
      "\u001b[34m\u001b[1mtrain: \u001b[0mScanning C:\\Users\\Kirk Recio\\Documents\\PYTHON\\Project Testing\\Data Cleaning Training\\cocosubset\\labels\\train2017... 5551 images, 49 backgrounds, 93 corrupt: 100%|██████████| 5600/5600 [00:52<00:00, 105.84it/s] \n",
      "\u001b[34m\u001b[1mtrain: \u001b[0mWARNING  C:\\Users\\Kirk Recio\\Documents\\PYTHON\\Project Testing\\Data Cleaning Training\\cocosubset\\images\\train2017\\000000000636.jpg: ignoring corrupt image/label: non-normalized or out of bounds coordinates [     1.2587]\n",
      "\u001b[34m\u001b[1mtrain: \u001b[0mWARNING  C:\\Users\\Kirk Recio\\Documents\\PYTHON\\Project Testing\\Data Cleaning Training\\cocosubset\\images\\train2017\\000000005205.jpg: ignoring corrupt image/label: non-normalized or out of bounds coordinates [     1.0694]\n",
      "\u001b[34m\u001b[1mtrain: \u001b[0mWARNING  C:\\Users\\Kirk Recio\\Documents\\PYTHON\\Project Testing\\Data Cleaning Training\\cocosubset\\images\\train2017\\000000008922.jpg: ignoring corrupt image/label: non-normalized or out of bounds coordinates [     1.0991      1.0572]\n",
      "\u001b[34m\u001b[1mtrain: \u001b[0mWARNING  C:\\Users\\Kirk Recio\\Documents\\PYTHON\\Project Testing\\Data Cleaning Training\\cocosubset\\images\\train2017\\000000010039.jpg: ignoring corrupt image/label: non-normalized or out of bounds coordinates [     1.2559]\n",
      "\u001b[34m\u001b[1mtrain: \u001b[0mWARNING  C:\\Users\\Kirk Recio\\Documents\\PYTHON\\Project Testing\\Data Cleaning Training\\cocosubset\\images\\train2017\\000000014921.jpg: ignoring corrupt image/label: non-normalized or out of bounds coordinates [     1.0426      1.0395]\n",
      "\u001b[34m\u001b[1mtrain: \u001b[0mWARNING  C:\\Users\\Kirk Recio\\Documents\\PYTHON\\Project Testing\\Data Cleaning Training\\cocosubset\\images\\train2017\\000000017095.jpg: ignoring corrupt image/label: non-normalized or out of bounds coordinates [     1.2553]\n",
      "\u001b[34m\u001b[1mtrain: \u001b[0mWARNING  C:\\Users\\Kirk Recio\\Documents\\PYTHON\\Project Testing\\Data Cleaning Training\\cocosubset\\images\\train2017\\000000018022.jpg: ignoring corrupt image/label: setting an array element with a sequence. The requested array has an inhomogeneous shape after 1 dimensions. The detected shape was (15,) + inhomogeneous part.\n",
      "\u001b[34m\u001b[1mtrain: \u001b[0mWARNING  C:\\Users\\Kirk Recio\\Documents\\PYTHON\\Project Testing\\Data Cleaning Training\\cocosubset\\images\\train2017\\000000018292.jpg: ignoring corrupt image/label: setting an array element with a sequence. The requested array has an inhomogeneous shape after 1 dimensions. The detected shape was (7,) + inhomogeneous part.\n",
      "\u001b[34m\u001b[1mtrain: \u001b[0mWARNING  C:\\Users\\Kirk Recio\\Documents\\PYTHON\\Project Testing\\Data Cleaning Training\\cocosubset\\images\\train2017\\000000020273.jpg: ignoring corrupt image/label: non-normalized or out of bounds coordinates [     1.0256]\n",
      "\u001b[34m\u001b[1mtrain: \u001b[0mWARNING  C:\\Users\\Kirk Recio\\Documents\\PYTHON\\Project Testing\\Data Cleaning Training\\cocosubset\\images\\train2017\\000000022167.jpg: ignoring corrupt image/label: non-normalized or out of bounds coordinates [     1.0983]\n",
      "\u001b[34m\u001b[1mtrain: \u001b[0mWARNING  C:\\Users\\Kirk Recio\\Documents\\PYTHON\\Project Testing\\Data Cleaning Training\\cocosubset\\images\\train2017\\000000027530.jpg: ignoring corrupt image/label: non-normalized or out of bounds coordinates [     1.5558]\n",
      "\u001b[34m\u001b[1mtrain: \u001b[0mWARNING  C:\\Users\\Kirk Recio\\Documents\\PYTHON\\Project Testing\\Data Cleaning Training\\cocosubset\\images\\train2017\\000000031519.jpg: ignoring corrupt image/label: non-normalized or out of bounds coordinates [     1.2832      1.0278      1.0015]\n",
      "\u001b[34m\u001b[1mtrain: \u001b[0mWARNING  C:\\Users\\Kirk Recio\\Documents\\PYTHON\\Project Testing\\Data Cleaning Training\\cocosubset\\images\\train2017\\000000032907.jpg: ignoring corrupt image/label: non-normalized or out of bounds coordinates [     1.1473]\n",
      "\u001b[34m\u001b[1mtrain: \u001b[0mWARNING  C:\\Users\\Kirk Recio\\Documents\\PYTHON\\Project Testing\\Data Cleaning Training\\cocosubset\\images\\train2017\\000000032990.jpg: ignoring corrupt image/label: non-normalized or out of bounds coordinates [     1.2253]\n",
      "\u001b[34m\u001b[1mtrain: \u001b[0mWARNING  C:\\Users\\Kirk Recio\\Documents\\PYTHON\\Project Testing\\Data Cleaning Training\\cocosubset\\images\\train2017\\000000045016.jpg: ignoring corrupt image/label: non-normalized or out of bounds coordinates [     1.0648]\n",
      "\u001b[34m\u001b[1mtrain: \u001b[0mWARNING  C:\\Users\\Kirk Recio\\Documents\\PYTHON\\Project Testing\\Data Cleaning Training\\cocosubset\\images\\train2017\\000000047596.jpg: ignoring corrupt image/label: non-normalized or out of bounds coordinates [     1.0012]\n",
      "\u001b[34m\u001b[1mtrain: \u001b[0mWARNING  C:\\Users\\Kirk Recio\\Documents\\PYTHON\\Project Testing\\Data Cleaning Training\\cocosubset\\images\\train2017\\000000052368.jpg: ignoring corrupt image/label: non-normalized or out of bounds coordinates [     1.1032]\n",
      "\u001b[34m\u001b[1mtrain: \u001b[0mWARNING  C:\\Users\\Kirk Recio\\Documents\\PYTHON\\Project Testing\\Data Cleaning Training\\cocosubset\\images\\train2017\\000000054133.jpg: ignoring corrupt image/label: non-normalized or out of bounds coordinates [     1.2102      1.0586      1.0326]\n",
      "\u001b[34m\u001b[1mtrain: \u001b[0mWARNING  C:\\Users\\Kirk Recio\\Documents\\PYTHON\\Project Testing\\Data Cleaning Training\\cocosubset\\images\\train2017\\000000060093.jpg: ignoring corrupt image/label: setting an array element with a sequence. The requested array has an inhomogeneous shape after 1 dimensions. The detected shape was (18,) + inhomogeneous part.\n",
      "\u001b[34m\u001b[1mtrain: \u001b[0mWARNING  C:\\Users\\Kirk Recio\\Documents\\PYTHON\\Project Testing\\Data Cleaning Training\\cocosubset\\images\\train2017\\000000061602.jpg: ignoring corrupt image/label: setting an array element with a sequence. The requested array has an inhomogeneous shape after 1 dimensions. The detected shape was (26,) + inhomogeneous part.\n",
      "\u001b[34m\u001b[1mtrain: \u001b[0mWARNING  C:\\Users\\Kirk Recio\\Documents\\PYTHON\\Project Testing\\Data Cleaning Training\\cocosubset\\images\\train2017\\000000076250.jpg: ignoring corrupt image/label: setting an array element with a sequence. The requested array has an inhomogeneous shape after 1 dimensions. The detected shape was (18,) + inhomogeneous part.\n",
      "\u001b[34m\u001b[1mtrain: \u001b[0mWARNING  C:\\Users\\Kirk Recio\\Documents\\PYTHON\\Project Testing\\Data Cleaning Training\\cocosubset\\images\\train2017\\000000078465.jpg: ignoring corrupt image/label: non-normalized or out of bounds coordinates [     1.0483]\n",
      "\u001b[34m\u001b[1mtrain: \u001b[0mWARNING  C:\\Users\\Kirk Recio\\Documents\\PYTHON\\Project Testing\\Data Cleaning Training\\cocosubset\\images\\train2017\\000000091283.jpg: ignoring corrupt image/label: non-normalized or out of bounds coordinates [     1.3617]\n",
      "\u001b[34m\u001b[1mtrain: \u001b[0mWARNING  C:\\Users\\Kirk Recio\\Documents\\PYTHON\\Project Testing\\Data Cleaning Training\\cocosubset\\images\\train2017\\000000091341.jpg: ignoring corrupt image/label: non-normalized or out of bounds coordinates [     1.3685      1.2566      1.2584]\n",
      "\u001b[34m\u001b[1mtrain: \u001b[0mWARNING  C:\\Users\\Kirk Recio\\Documents\\PYTHON\\Project Testing\\Data Cleaning Training\\cocosubset\\images\\train2017\\000000093894.jpg: ignoring corrupt image/label: non-normalized or out of bounds coordinates [     1.0031       1.076      1.2538      1.2401      1.2207      1.2705      1.2559      1.1143]\n",
      "\u001b[34m\u001b[1mtrain: \u001b[0mWARNING  C:\\Users\\Kirk Recio\\Documents\\PYTHON\\Project Testing\\Data Cleaning Training\\cocosubset\\images\\train2017\\000000097238.jpg: ignoring corrupt image/label: setting an array element with a sequence. The requested array has an inhomogeneous shape after 1 dimensions. The detected shape was (12,) + inhomogeneous part.\n",
      "\u001b[34m\u001b[1mtrain: \u001b[0mWARNING  C:\\Users\\Kirk Recio\\Documents\\PYTHON\\Project Testing\\Data Cleaning Training\\cocosubset\\images\\train2017\\000000106375.jpg: ignoring corrupt image/label: non-normalized or out of bounds coordinates [     1.1006      1.1578      1.0876]\n",
      "\u001b[34m\u001b[1mtrain: \u001b[0mWARNING  C:\\Users\\Kirk Recio\\Documents\\PYTHON\\Project Testing\\Data Cleaning Training\\cocosubset\\images\\train2017\\000000109045.jpg: ignoring corrupt image/label: non-normalized or out of bounds coordinates [     1.4966]\n",
      "\u001b[34m\u001b[1mtrain: \u001b[0mWARNING  C:\\Users\\Kirk Recio\\Documents\\PYTHON\\Project Testing\\Data Cleaning Training\\cocosubset\\images\\train2017\\000000115902.jpg: ignoring corrupt image/label: setting an array element with a sequence. The requested array has an inhomogeneous shape after 1 dimensions. The detected shape was (12,) + inhomogeneous part.\n",
      "\u001b[34m\u001b[1mtrain: \u001b[0mWARNING  C:\\Users\\Kirk Recio\\Documents\\PYTHON\\Project Testing\\Data Cleaning Training\\cocosubset\\images\\train2017\\000000117222.jpg: ignoring corrupt image/label: non-normalized or out of bounds coordinates [     1.0774      1.1533      1.0862]\n",
      "\u001b[34m\u001b[1mtrain: \u001b[0mWARNING  C:\\Users\\Kirk Recio\\Documents\\PYTHON\\Project Testing\\Data Cleaning Training\\cocosubset\\images\\train2017\\000000120644.jpg: ignoring corrupt image/label: setting an array element with a sequence. The requested array has an inhomogeneous shape after 1 dimensions. The detected shape was (23,) + inhomogeneous part.\n",
      "\u001b[34m\u001b[1mtrain: \u001b[0mWARNING  C:\\Users\\Kirk Recio\\Documents\\PYTHON\\Project Testing\\Data Cleaning Training\\cocosubset\\images\\train2017\\000000124052.jpg: ignoring corrupt image/label: setting an array element with a sequence. The requested array has an inhomogeneous shape after 1 dimensions. The detected shape was (22,) + inhomogeneous part.\n",
      "\u001b[34m\u001b[1mtrain: \u001b[0mWARNING  C:\\Users\\Kirk Recio\\Documents\\PYTHON\\Project Testing\\Data Cleaning Training\\cocosubset\\images\\train2017\\000000136271.jpg: ignoring corrupt image/label: setting an array element with a sequence. The requested array has an inhomogeneous shape after 1 dimensions. The detected shape was (18,) + inhomogeneous part.\n",
      "\u001b[34m\u001b[1mtrain: \u001b[0mWARNING  C:\\Users\\Kirk Recio\\Documents\\PYTHON\\Project Testing\\Data Cleaning Training\\cocosubset\\images\\train2017\\000000141304.jpg: ignoring corrupt image/label: setting an array element with a sequence. The requested array has an inhomogeneous shape after 1 dimensions. The detected shape was (15,) + inhomogeneous part.\n",
      "\u001b[34m\u001b[1mtrain: \u001b[0mWARNING  C:\\Users\\Kirk Recio\\Documents\\PYTHON\\Project Testing\\Data Cleaning Training\\cocosubset\\images\\train2017\\000000153231.jpg: ignoring corrupt image/label: setting an array element with a sequence. The requested array has an inhomogeneous shape after 1 dimensions. The detected shape was (37,) + inhomogeneous part.\n",
      "\u001b[34m\u001b[1mtrain: \u001b[0mWARNING  C:\\Users\\Kirk Recio\\Documents\\PYTHON\\Project Testing\\Data Cleaning Training\\cocosubset\\images\\train2017\\000000164102.jpg: ignoring corrupt image/label: setting an array element with a sequence. The requested array has an inhomogeneous shape after 1 dimensions. The detected shape was (24,) + inhomogeneous part.\n",
      "\u001b[34m\u001b[1mtrain: \u001b[0mWARNING  C:\\Users\\Kirk Recio\\Documents\\PYTHON\\Project Testing\\Data Cleaning Training\\cocosubset\\images\\train2017\\000000167692.jpg: ignoring corrupt image/label: setting an array element with a sequence. The requested array has an inhomogeneous shape after 1 dimensions. The detected shape was (30,) + inhomogeneous part.\n",
      "\u001b[34m\u001b[1mtrain: \u001b[0mWARNING  C:\\Users\\Kirk Recio\\Documents\\PYTHON\\Project Testing\\Data Cleaning Training\\cocosubset\\images\\train2017\\000000170974.jpg: ignoring corrupt image/label: setting an array element with a sequence. The requested array has an inhomogeneous shape after 1 dimensions. The detected shape was (19,) + inhomogeneous part.\n",
      "\u001b[34m\u001b[1mtrain: \u001b[0mWARNING  C:\\Users\\Kirk Recio\\Documents\\PYTHON\\Project Testing\\Data Cleaning Training\\cocosubset\\images\\train2017\\000000171181.jpg: ignoring corrupt image/label: setting an array element with a sequence. The requested array has an inhomogeneous shape after 1 dimensions. The detected shape was (40,) + inhomogeneous part.\n",
      "\u001b[34m\u001b[1mtrain: \u001b[0mWARNING  C:\\Users\\Kirk Recio\\Documents\\PYTHON\\Project Testing\\Data Cleaning Training\\cocosubset\\images\\train2017\\000000189376.jpg: ignoring corrupt image/label: setting an array element with a sequence. The requested array has an inhomogeneous shape after 1 dimensions. The detected shape was (21,) + inhomogeneous part.\n",
      "\u001b[34m\u001b[1mtrain: \u001b[0mWARNING  C:\\Users\\Kirk Recio\\Documents\\PYTHON\\Project Testing\\Data Cleaning Training\\cocosubset\\images\\train2017\\000000198706.jpg: ignoring corrupt image/label: setting an array element with a sequence. The requested array has an inhomogeneous shape after 1 dimensions. The detected shape was (4,) + inhomogeneous part.\n",
      "\u001b[34m\u001b[1mtrain: \u001b[0mWARNING  C:\\Users\\Kirk Recio\\Documents\\PYTHON\\Project Testing\\Data Cleaning Training\\cocosubset\\images\\train2017\\000000209851.jpg: ignoring corrupt image/label: setting an array element with a sequence. The requested array has an inhomogeneous shape after 1 dimensions. The detected shape was (9,) + inhomogeneous part.\n",
      "\u001b[34m\u001b[1mtrain: \u001b[0mWARNING  C:\\Users\\Kirk Recio\\Documents\\PYTHON\\Project Testing\\Data Cleaning Training\\cocosubset\\images\\train2017\\000000221659.jpg: ignoring corrupt image/label: setting an array element with a sequence. The requested array has an inhomogeneous shape after 1 dimensions. The detected shape was (15,) + inhomogeneous part.\n",
      "\u001b[34m\u001b[1mtrain: \u001b[0mWARNING  C:\\Users\\Kirk Recio\\Documents\\PYTHON\\Project Testing\\Data Cleaning Training\\cocosubset\\images\\train2017\\000000222029.jpg: ignoring corrupt image/label: setting an array element with a sequence. The requested array has an inhomogeneous shape after 1 dimensions. The detected shape was (7,) + inhomogeneous part.\n",
      "\u001b[34m\u001b[1mtrain: \u001b[0mWARNING  C:\\Users\\Kirk Recio\\Documents\\PYTHON\\Project Testing\\Data Cleaning Training\\cocosubset\\images\\train2017\\000000227265.jpg: ignoring corrupt image/label: setting an array element with a sequence. The requested array has an inhomogeneous shape after 1 dimensions. The detected shape was (14,) + inhomogeneous part.\n",
      "\u001b[34m\u001b[1mtrain: \u001b[0mWARNING  C:\\Users\\Kirk Recio\\Documents\\PYTHON\\Project Testing\\Data Cleaning Training\\cocosubset\\images\\train2017\\000000228552.jpg: ignoring corrupt image/label: setting an array element with a sequence. The requested array has an inhomogeneous shape after 1 dimensions. The detected shape was (18,) + inhomogeneous part.\n",
      "\u001b[34m\u001b[1mtrain: \u001b[0mWARNING  C:\\Users\\Kirk Recio\\Documents\\PYTHON\\Project Testing\\Data Cleaning Training\\cocosubset\\images\\train2017\\000000230780.jpg: ignoring corrupt image/label: setting an array element with a sequence. The requested array has an inhomogeneous shape after 1 dimensions. The detected shape was (18,) + inhomogeneous part.\n",
      "\u001b[34m\u001b[1mtrain: \u001b[0mWARNING  C:\\Users\\Kirk Recio\\Documents\\PYTHON\\Project Testing\\Data Cleaning Training\\cocosubset\\images\\train2017\\000000238001.jpg: ignoring corrupt image/label: setting an array element with a sequence. The requested array has an inhomogeneous shape after 1 dimensions. The detected shape was (17,) + inhomogeneous part.\n",
      "\u001b[34m\u001b[1mtrain: \u001b[0mWARNING  C:\\Users\\Kirk Recio\\Documents\\PYTHON\\Project Testing\\Data Cleaning Training\\cocosubset\\images\\train2017\\000000239337.jpg: ignoring corrupt image/label: setting an array element with a sequence. The requested array has an inhomogeneous shape after 1 dimensions. The detected shape was (15,) + inhomogeneous part.\n",
      "\u001b[34m\u001b[1mtrain: \u001b[0mWARNING  C:\\Users\\Kirk Recio\\Documents\\PYTHON\\Project Testing\\Data Cleaning Training\\cocosubset\\images\\train2017\\000000242246.jpg: ignoring corrupt image/label: setting an array element with a sequence. The requested array has an inhomogeneous shape after 1 dimensions. The detected shape was (45,) + inhomogeneous part.\n",
      "\u001b[34m\u001b[1mtrain: \u001b[0mWARNING  C:\\Users\\Kirk Recio\\Documents\\PYTHON\\Project Testing\\Data Cleaning Training\\cocosubset\\images\\train2017\\000000242422.jpg: ignoring corrupt image/label: setting an array element with a sequence. The requested array has an inhomogeneous shape after 1 dimensions. The detected shape was (20,) + inhomogeneous part.\n",
      "\u001b[34m\u001b[1mtrain: \u001b[0mWARNING  C:\\Users\\Kirk Recio\\Documents\\PYTHON\\Project Testing\\Data Cleaning Training\\cocosubset\\images\\train2017\\000000247199.jpg: ignoring corrupt image/label: setting an array element with a sequence. The requested array has an inhomogeneous shape after 1 dimensions. The detected shape was (3,) + inhomogeneous part.\n",
      "\u001b[34m\u001b[1mtrain: \u001b[0mWARNING  C:\\Users\\Kirk Recio\\Documents\\PYTHON\\Project Testing\\Data Cleaning Training\\cocosubset\\images\\train2017\\000000253432.jpg: ignoring corrupt image/label: setting an array element with a sequence. The requested array has an inhomogeneous shape after 1 dimensions. The detected shape was (10,) + inhomogeneous part.\n",
      "\u001b[34m\u001b[1mtrain: \u001b[0mWARNING  C:\\Users\\Kirk Recio\\Documents\\PYTHON\\Project Testing\\Data Cleaning Training\\cocosubset\\images\\train2017\\000000256897.jpg: ignoring corrupt image/label: setting an array element with a sequence. The requested array has an inhomogeneous shape after 1 dimensions. The detected shape was (9,) + inhomogeneous part.\n",
      "\u001b[34m\u001b[1mtrain: \u001b[0mWARNING  C:\\Users\\Kirk Recio\\Documents\\PYTHON\\Project Testing\\Data Cleaning Training\\cocosubset\\images\\train2017\\000000263779.jpg: ignoring corrupt image/label: setting an array element with a sequence. The requested array has an inhomogeneous shape after 1 dimensions. The detected shape was (11,) + inhomogeneous part.\n",
      "\u001b[34m\u001b[1mtrain: \u001b[0mWARNING  C:\\Users\\Kirk Recio\\Documents\\PYTHON\\Project Testing\\Data Cleaning Training\\cocosubset\\images\\train2017\\000000279117.jpg: ignoring corrupt image/label: setting an array element with a sequence. The requested array has an inhomogeneous shape after 1 dimensions. The detected shape was (28,) + inhomogeneous part.\n",
      "\u001b[34m\u001b[1mtrain: \u001b[0mWARNING  C:\\Users\\Kirk Recio\\Documents\\PYTHON\\Project Testing\\Data Cleaning Training\\cocosubset\\images\\train2017\\000000284465.jpg: ignoring corrupt image/label: setting an array element with a sequence. The requested array has an inhomogeneous shape after 1 dimensions. The detected shape was (14,) + inhomogeneous part.\n",
      "\u001b[34m\u001b[1mtrain: \u001b[0mWARNING  C:\\Users\\Kirk Recio\\Documents\\PYTHON\\Project Testing\\Data Cleaning Training\\cocosubset\\images\\train2017\\000000296374.jpg: ignoring corrupt image/label: setting an array element with a sequence. The requested array has an inhomogeneous shape after 1 dimensions. The detected shape was (22,) + inhomogeneous part.\n",
      "\u001b[34m\u001b[1mtrain: \u001b[0mWARNING  C:\\Users\\Kirk Recio\\Documents\\PYTHON\\Project Testing\\Data Cleaning Training\\cocosubset\\images\\train2017\\000000302038.jpg: ignoring corrupt image/label: setting an array element with a sequence. The requested array has an inhomogeneous shape after 1 dimensions. The detected shape was (19,) + inhomogeneous part.\n",
      "\u001b[34m\u001b[1mtrain: \u001b[0mWARNING  C:\\Users\\Kirk Recio\\Documents\\PYTHON\\Project Testing\\Data Cleaning Training\\cocosubset\\images\\train2017\\000000303970.jpg: ignoring corrupt image/label: setting an array element with a sequence. The requested array has an inhomogeneous shape after 1 dimensions. The detected shape was (14,) + inhomogeneous part.\n",
      "\u001b[34m\u001b[1mtrain: \u001b[0mWARNING  C:\\Users\\Kirk Recio\\Documents\\PYTHON\\Project Testing\\Data Cleaning Training\\cocosubset\\images\\train2017\\000000311271.jpg: ignoring corrupt image/label: setting an array element with a sequence. The requested array has an inhomogeneous shape after 1 dimensions. The detected shape was (21,) + inhomogeneous part.\n",
      "\u001b[34m\u001b[1mtrain: \u001b[0mWARNING  C:\\Users\\Kirk Recio\\Documents\\PYTHON\\Project Testing\\Data Cleaning Training\\cocosubset\\images\\train2017\\000000312343.jpg: ignoring corrupt image/label: setting an array element with a sequence. The requested array has an inhomogeneous shape after 1 dimensions. The detected shape was (7,) + inhomogeneous part.\n",
      "\u001b[34m\u001b[1mtrain: \u001b[0mWARNING  C:\\Users\\Kirk Recio\\Documents\\PYTHON\\Project Testing\\Data Cleaning Training\\cocosubset\\images\\train2017\\000000313735.jpg: ignoring corrupt image/label: setting an array element with a sequence. The requested array has an inhomogeneous shape after 1 dimensions. The detected shape was (13,) + inhomogeneous part.\n",
      "\u001b[34m\u001b[1mtrain: \u001b[0mWARNING  C:\\Users\\Kirk Recio\\Documents\\PYTHON\\Project Testing\\Data Cleaning Training\\cocosubset\\images\\train2017\\000000314277.jpg: ignoring corrupt image/label: cannot reshape array of size 7 into shape (2)\n",
      "\u001b[34m\u001b[1mtrain: \u001b[0mWARNING  C:\\Users\\Kirk Recio\\Documents\\PYTHON\\Project Testing\\Data Cleaning Training\\cocosubset\\images\\train2017\\000000314986.jpg: ignoring corrupt image/label: setting an array element with a sequence. The requested array has an inhomogeneous shape after 1 dimensions. The detected shape was (20,) + inhomogeneous part.\n",
      "\u001b[34m\u001b[1mtrain: \u001b[0mWARNING  C:\\Users\\Kirk Recio\\Documents\\PYTHON\\Project Testing\\Data Cleaning Training\\cocosubset\\images\\train2017\\000000317402.jpg: ignoring corrupt image/label: setting an array element with a sequence. The requested array has an inhomogeneous shape after 1 dimensions. The detected shape was (8,) + inhomogeneous part.\n",
      "\u001b[34m\u001b[1mtrain: \u001b[0mWARNING  C:\\Users\\Kirk Recio\\Documents\\PYTHON\\Project Testing\\Data Cleaning Training\\cocosubset\\images\\train2017\\000000323116.jpg: ignoring corrupt image/label: setting an array element with a sequence. The requested array has an inhomogeneous shape after 1 dimensions. The detected shape was (28,) + inhomogeneous part.\n",
      "\u001b[34m\u001b[1mtrain: \u001b[0mWARNING  C:\\Users\\Kirk Recio\\Documents\\PYTHON\\Project Testing\\Data Cleaning Training\\cocosubset\\images\\train2017\\000000323468.jpg: ignoring corrupt image/label: setting an array element with a sequence. The requested array has an inhomogeneous shape after 1 dimensions. The detected shape was (12,) + inhomogeneous part.\n",
      "\u001b[34m\u001b[1mtrain: \u001b[0mWARNING  C:\\Users\\Kirk Recio\\Documents\\PYTHON\\Project Testing\\Data Cleaning Training\\cocosubset\\images\\train2017\\000000338864.jpg: ignoring corrupt image/label: setting an array element with a sequence. The requested array has an inhomogeneous shape after 1 dimensions. The detected shape was (9,) + inhomogeneous part.\n",
      "\u001b[34m\u001b[1mtrain: \u001b[0mWARNING  C:\\Users\\Kirk Recio\\Documents\\PYTHON\\Project Testing\\Data Cleaning Training\\cocosubset\\images\\train2017\\000000344629.jpg: ignoring corrupt image/label: setting an array element with a sequence. The requested array has an inhomogeneous shape after 1 dimensions. The detected shape was (40,) + inhomogeneous part.\n",
      "\u001b[34m\u001b[1mtrain: \u001b[0mWARNING  C:\\Users\\Kirk Recio\\Documents\\PYTHON\\Project Testing\\Data Cleaning Training\\cocosubset\\images\\train2017\\000000347179.jpg: ignoring corrupt image/label: setting an array element with a sequence. The requested array has an inhomogeneous shape after 1 dimensions. The detected shape was (19,) + inhomogeneous part.\n",
      "\u001b[34m\u001b[1mtrain: \u001b[0mWARNING  C:\\Users\\Kirk Recio\\Documents\\PYTHON\\Project Testing\\Data Cleaning Training\\cocosubset\\images\\train2017\\000000354515.jpg: ignoring corrupt image/label: setting an array element with a sequence. The requested array has an inhomogeneous shape after 1 dimensions. The detected shape was (7,) + inhomogeneous part.\n",
      "\u001b[34m\u001b[1mtrain: \u001b[0mWARNING  C:\\Users\\Kirk Recio\\Documents\\PYTHON\\Project Testing\\Data Cleaning Training\\cocosubset\\images\\train2017\\000000357493.jpg: ignoring corrupt image/label: setting an array element with a sequence. The requested array has an inhomogeneous shape after 1 dimensions. The detected shape was (15,) + inhomogeneous part.\n",
      "\u001b[34m\u001b[1mtrain: \u001b[0mWARNING  C:\\Users\\Kirk Recio\\Documents\\PYTHON\\Project Testing\\Data Cleaning Training\\cocosubset\\images\\train2017\\000000360705.jpg: ignoring corrupt image/label: setting an array element with a sequence. The requested array has an inhomogeneous shape after 1 dimensions. The detected shape was (26,) + inhomogeneous part.\n",
      "\u001b[34m\u001b[1mtrain: \u001b[0mWARNING  C:\\Users\\Kirk Recio\\Documents\\PYTHON\\Project Testing\\Data Cleaning Training\\cocosubset\\images\\train2017\\000000360983.jpg: ignoring corrupt image/label: setting an array element with a sequence. The requested array has an inhomogeneous shape after 1 dimensions. The detected shape was (11,) + inhomogeneous part.\n",
      "\u001b[34m\u001b[1mtrain: \u001b[0mWARNING  C:\\Users\\Kirk Recio\\Documents\\PYTHON\\Project Testing\\Data Cleaning Training\\cocosubset\\images\\train2017\\000000373904.jpg: ignoring corrupt image/label: setting an array element with a sequence. The requested array has an inhomogeneous shape after 1 dimensions. The detected shape was (4,) + inhomogeneous part.\n",
      "\u001b[34m\u001b[1mtrain: \u001b[0mWARNING  C:\\Users\\Kirk Recio\\Documents\\PYTHON\\Project Testing\\Data Cleaning Training\\cocosubset\\images\\train2017\\000000382557.jpg: ignoring corrupt image/label: setting an array element with a sequence. The requested array has an inhomogeneous shape after 1 dimensions. The detected shape was (16,) + inhomogeneous part.\n",
      "\u001b[34m\u001b[1mtrain: \u001b[0mWARNING  C:\\Users\\Kirk Recio\\Documents\\PYTHON\\Project Testing\\Data Cleaning Training\\cocosubset\\images\\train2017\\000000415077.jpg: ignoring corrupt image/label: setting an array element with a sequence. The requested array has an inhomogeneous shape after 1 dimensions. The detected shape was (8,) + inhomogeneous part.\n",
      "\u001b[34m\u001b[1mtrain: \u001b[0mWARNING  C:\\Users\\Kirk Recio\\Documents\\PYTHON\\Project Testing\\Data Cleaning Training\\cocosubset\\images\\train2017\\000000420065.jpg: ignoring corrupt image/label: setting an array element with a sequence. The requested array has an inhomogeneous shape after 1 dimensions. The detected shape was (18,) + inhomogeneous part.\n",
      "\u001b[34m\u001b[1mtrain: \u001b[0mWARNING  C:\\Users\\Kirk Recio\\Documents\\PYTHON\\Project Testing\\Data Cleaning Training\\cocosubset\\images\\train2017\\000000427443.jpg: ignoring corrupt image/label: setting an array element with a sequence. The requested array has an inhomogeneous shape after 1 dimensions. The detected shape was (2,) + inhomogeneous part.\n",
      "\u001b[34m\u001b[1mtrain: \u001b[0mWARNING  C:\\Users\\Kirk Recio\\Documents\\PYTHON\\Project Testing\\Data Cleaning Training\\cocosubset\\images\\train2017\\000000450558.jpg: ignoring corrupt image/label: setting an array element with a sequence. The requested array has an inhomogeneous shape after 1 dimensions. The detected shape was (13,) + inhomogeneous part.\n",
      "\u001b[34m\u001b[1mtrain: \u001b[0mWARNING  C:\\Users\\Kirk Recio\\Documents\\PYTHON\\Project Testing\\Data Cleaning Training\\cocosubset\\images\\train2017\\000000474862.jpg: ignoring corrupt image/label: setting an array element with a sequence. The requested array has an inhomogeneous shape after 1 dimensions. The detected shape was (15,) + inhomogeneous part.\n",
      "\u001b[34m\u001b[1mtrain: \u001b[0mWARNING  C:\\Users\\Kirk Recio\\Documents\\PYTHON\\Project Testing\\Data Cleaning Training\\cocosubset\\images\\train2017\\000000484620.jpg: ignoring corrupt image/label: setting an array element with a sequence. The requested array has an inhomogeneous shape after 1 dimensions. The detected shape was (5,) + inhomogeneous part.\n",
      "\u001b[34m\u001b[1mtrain: \u001b[0mWARNING  C:\\Users\\Kirk Recio\\Documents\\PYTHON\\Project Testing\\Data Cleaning Training\\cocosubset\\images\\train2017\\000000488476.jpg: ignoring corrupt image/label: setting an array element with a sequence. The requested array has an inhomogeneous shape after 1 dimensions. The detected shape was (14,) + inhomogeneous part.\n",
      "\u001b[34m\u001b[1mtrain: \u001b[0mWARNING  C:\\Users\\Kirk Recio\\Documents\\PYTHON\\Project Testing\\Data Cleaning Training\\cocosubset\\images\\train2017\\000000496783.jpg: ignoring corrupt image/label: setting an array element with a sequence. The requested array has an inhomogeneous shape after 1 dimensions. The detected shape was (10,) + inhomogeneous part.\n",
      "\u001b[34m\u001b[1mtrain: \u001b[0mWARNING  C:\\Users\\Kirk Recio\\Documents\\PYTHON\\Project Testing\\Data Cleaning Training\\cocosubset\\images\\train2017\\000000512731.jpg: ignoring corrupt image/label: setting an array element with a sequence. The requested array has an inhomogeneous shape after 1 dimensions. The detected shape was (28,) + inhomogeneous part.\n",
      "\u001b[34m\u001b[1mtrain: \u001b[0mWARNING  C:\\Users\\Kirk Recio\\Documents\\PYTHON\\Project Testing\\Data Cleaning Training\\cocosubset\\images\\train2017\\000000520310.jpg: ignoring corrupt image/label: setting an array element with a sequence. The requested array has an inhomogeneous shape after 1 dimensions. The detected shape was (24,) + inhomogeneous part.\n",
      "\u001b[34m\u001b[1mtrain: \u001b[0mWARNING  C:\\Users\\Kirk Recio\\Documents\\PYTHON\\Project Testing\\Data Cleaning Training\\cocosubset\\images\\train2017\\000000524954.jpg: ignoring corrupt image/label: setting an array element with a sequence. The requested array has an inhomogeneous shape after 1 dimensions. The detected shape was (2,) + inhomogeneous part.\n",
      "\u001b[34m\u001b[1mtrain: \u001b[0mWARNING  C:\\Users\\Kirk Recio\\Documents\\PYTHON\\Project Testing\\Data Cleaning Training\\cocosubset\\images\\train2017\\000000527098.jpg: ignoring corrupt image/label: setting an array element with a sequence. The requested array has an inhomogeneous shape after 1 dimensions. The detected shape was (14,) + inhomogeneous part.\n",
      "\u001b[34m\u001b[1mtrain: \u001b[0mWARNING  C:\\Users\\Kirk Recio\\Documents\\PYTHON\\Project Testing\\Data Cleaning Training\\cocosubset\\images\\train2017\\000000536034.jpg: ignoring corrupt image/label: setting an array element with a sequence. The requested array has an inhomogeneous shape after 1 dimensions. The detected shape was (36,) + inhomogeneous part.\n",
      "\u001b[34m\u001b[1mtrain: \u001b[0mWARNING  C:\\Users\\Kirk Recio\\Documents\\PYTHON\\Project Testing\\Data Cleaning Training\\cocosubset\\images\\train2017\\000000568171.jpg: ignoring corrupt image/label: setting an array element with a sequence. The requested array has an inhomogeneous shape after 1 dimensions. The detected shape was (5,) + inhomogeneous part.\n",
      "\u001b[34m\u001b[1mtrain: \u001b[0mWARNING  C:\\Users\\Kirk Recio\\Documents\\PYTHON\\Project Testing\\Data Cleaning Training\\cocosubset\\images\\train2017\\000000576089.jpg: ignoring corrupt image/label: cannot reshape array of size 9 into shape (2)\n",
      "\u001b[34m\u001b[1mtrain: \u001b[0mWARNING  C:\\Users\\Kirk Recio\\Documents\\PYTHON\\Project Testing\\Data Cleaning Training\\cocosubset\\images\\train2017\\000000579664.jpg: ignoring corrupt image/label: setting an array element with a sequence. The requested array has an inhomogeneous shape after 1 dimensions. The detected shape was (8,) + inhomogeneous part.\n",
      "\u001b[34m\u001b[1mtrain: \u001b[0mWARNING  Cache directory C:\\Users\\Kirk Recio\\Documents\\PYTHON\\Project Testing\\Data Cleaning Training\\cocosubset\\labels is not writeable: [WinError 183] Cannot create a file when that file already exists: 'C:\\\\Users\\\\Kirk Recio\\\\Documents\\\\PYTHON\\\\Project Testing\\\\Data Cleaning Training\\\\cocosubset\\\\labels\\\\train2017.cache.npy' -> 'C:\\\\Users\\\\Kirk Recio\\\\Documents\\\\PYTHON\\\\Project Testing\\\\Data Cleaning Training\\\\cocosubset\\\\labels\\\\train2017.cache'\n",
      "Traceback (most recent call last):\n",
      "  File \"c:\\Users\\Kirk Recio\\Documents\\PYTHON\\Project Testing\\Data Cleaning Training\\yolov5\\train.py\", line 986, in <module>\n",
      "    main(opt)\n",
      "  File \"c:\\Users\\Kirk Recio\\Documents\\PYTHON\\Project Testing\\Data Cleaning Training\\yolov5\\train.py\", line 688, in main\n",
      "    train(opt.hyp, opt, device, callbacks)\n",
      "  File \"c:\\Users\\Kirk Recio\\Documents\\PYTHON\\Project Testing\\Data Cleaning Training\\yolov5\\train.py\", line 305, in train\n",
      "    assert mlc < nc, f\"Label class {mlc} exceeds nc={nc} in {data}. Possible class labels are 0-{nc - 1}\"\n",
      "           ^^^^^^^^\n",
      "AssertionError: Label class 3333355 exceeds nc=80 in ../cocosubset/dataset.yaml. Possible class labels are 0-79\n"
     ]
    }
   ],
   "source": [
    "%cd ..\n",
    "%cd yolov5\n",
    "!python train.py --data ../cocosubset/dataset.yaml --weights yolov5n.pt --epochs 1 --batch-size 16\n",
    "\n",
    "\n"
   ]
  },
  {
   "cell_type": "code",
   "execution_count": 15,
   "metadata": {},
   "outputs": [
    {
     "name": "stdout",
     "output_type": "stream",
     "text": [
      "✅ Deleted old cache file!\n"
     ]
    }
   ],
   "source": [
    "cache_file = r\"C:\\Users\\Kirk Recio\\Documents\\PYTHON\\Project Testing\\Data Cleaning Training\\cocosubset\\train2017.cache\"\n",
    "\n",
    "if os.path.exists(cache_file):\n",
    "    os.remove(cache_file)\n",
    "    print(\"✅ Deleted old cache file!\")\n",
    "else:\n",
    "    print(\"❌ Cache file not found!\")\n"
   ]
  },
  {
   "cell_type": "code",
   "execution_count": null,
   "metadata": {},
   "outputs": [
    {
     "name": "stdout",
     "output_type": "stream",
     "text": [
      "[WinError 2] The system cannot find the file specified: 'yolov5'\n",
      "c:\\Users\\Kirk Recio\\Documents\\PYTHON\\Project Testing\\Data Cleaning Training\\yolov5\n"
     ]
    },
    {
     "name": "stderr",
     "output_type": "stream",
     "text": [
      "C:\\Users\\Kirk Recio\\AppData\\Local\\Packages\\PythonSoftwareFoundation.Python.3.12_qbz5n2kfra8p0\\LocalCache\\local-packages\\Python312\\site-packages\\IPython\\core\\magics\\osm.py:393: UserWarning: This is now an optional IPython functionality, using bookmarks requires you to install the `pickleshare` library.\n",
      "  bkms = self.shell.db.get('bookmarks', {})\n",
      "\u001b[34m\u001b[1mtrain: \u001b[0mweights=yolov5nu.pt, cfg=, data=../dataset.yaml, hyp=data\\hyps\\hyp.scratch-low.yaml, epochs=50, batch_size=16, imgsz=640, rect=False, resume=False, nosave=False, noval=False, noautoanchor=False, noplots=False, evolve=None, evolve_population=data\\hyps, resume_evolve=None, bucket=, cache=None, image_weights=False, device=, multi_scale=False, single_cls=False, optimizer=SGD, sync_bn=False, workers=8, project=runs\\train, name=exp, exist_ok=False, quad=False, cos_lr=False, label_smoothing=0.0, patience=100, freeze=[0], save_period=-1, seed=0, local_rank=-1, entity=None, upload_dataset=False, bbox_interval=-1, artifact_alias=latest, ndjson_console=False, ndjson_file=False\n",
      "\u001b[34m\u001b[1mgithub: \u001b[0mup to date with https://github.com/ultralytics/yolov5 \n",
      "fatal: cannot change to 'C:\\Users\\Kirk': Invalid argument\n",
      "YOLOv5  2025-3-24 Python-3.12.9 torch-2.6.0+cu124 CUDA:0 (NVIDIA GeForce RTX 3050 Laptop GPU, 4096MiB)\n",
      "\n",
      "\u001b[34m\u001b[1mhyperparameters: \u001b[0mlr0=0.01, lrf=0.01, momentum=0.937, weight_decay=0.0005, warmup_epochs=3.0, warmup_momentum=0.8, warmup_bias_lr=0.1, box=0.05, cls=0.5, cls_pw=1.0, obj=1.0, obj_pw=1.0, iou_t=0.2, anchor_t=4.0, fl_gamma=0.0, hsv_h=0.015, hsv_s=0.7, hsv_v=0.4, degrees=0.0, translate=0.1, scale=0.5, shear=0.0, perspective=0.0, flipud=0.0, fliplr=0.5, mosaic=1.0, mixup=0.0, copy_paste=0.0\n",
      "\u001b[34m\u001b[1mComet: \u001b[0mrun 'pip install comet_ml' to automatically track and visualize YOLOv5  runs in Comet\n",
      "\u001b[34m\u001b[1mTensorBoard: \u001b[0mStart with 'tensorboard --logdir runs\\train', view at http://localhost:6006/\n",
      "\n",
      "Dataset not found , missing paths ['C:\\\\Users\\\\Kirk Recio\\\\Documents\\\\PYTHON\\\\Project Testing\\\\Data Cleaning Training\\\\yolov5\\\\cocosubset\\\\val2017']\n",
      "Traceback (most recent call last):\n",
      "  File \"c:\\Users\\Kirk Recio\\Documents\\PYTHON\\Project Testing\\Data Cleaning Training\\yolov5\\train.py\", line 986, in <module>\n",
      "    main(opt)\n",
      "  File \"c:\\Users\\Kirk Recio\\Documents\\PYTHON\\Project Testing\\Data Cleaning Training\\yolov5\\train.py\", line 688, in main\n",
      "    train(opt.hyp, opt, device, callbacks)\n",
      "  File \"c:\\Users\\Kirk Recio\\Documents\\PYTHON\\Project Testing\\Data Cleaning Training\\yolov5\\train.py\", line 203, in train\n",
      "    data_dict = data_dict or check_dataset(data)  # check if None\n",
      "                             ^^^^^^^^^^^^^^^^^^^\n",
      "  File \"c:\\Users\\Kirk Recio\\Documents\\PYTHON\\Project Testing\\Data Cleaning Training\\yolov5\\utils\\general.py\", line 564, in check_dataset\n",
      "    raise Exception(\"Dataset not found ❌\")\n",
      "Exception: Dataset not found ❌\n"
     ]
    }
   ],
   "source": [
    "%cd yolov5\n",
    "!python train.py --img 640 --batch 16 --epochs 50 --data ../dataset.yaml --weights yolov5nu.pt\n",
    "\n"
   ]
  },
  {
   "cell_type": "code",
   "execution_count": 1,
   "metadata": {},
   "outputs": [
    {
     "name": "stdout",
     "output_type": "stream",
     "text": [
      "True\n",
      "NVIDIA GeForce RTX 3050 Laptop GPU\n"
     ]
    }
   ],
   "source": [
    "import torch\n",
    "print(torch.cuda.is_available())  # Should print True\n",
    "print(torch.cuda.get_device_name(0))  # Should print your GPU name\n"
   ]
  },
  {
   "cell_type": "markdown",
   "metadata": {},
   "source": [
    "### POTHOLE DATASET"
   ]
  },
  {
   "cell_type": "code",
   "execution_count": 2,
   "metadata": {},
   "outputs": [
    {
     "name": "stdout",
     "output_type": "stream",
     "text": [
      "\n",
      "🚀 Training completed in 20.39 seconds (0.34 minutes)\n"
     ]
    }
   ],
   "source": [
    "import os\n",
    "import time\n",
    "\n",
    "# Start timing\n",
    "start_time = time.time()\n",
    "\n",
    "# Run YOLOv5 training\n",
    "os.system(\"python yolov5/train.py --weights yolov5s.pt --data pothole.yaml --epochs 100 --batch-size 16 --save-period 10\")\n",
    "\n",
    "# Calculate elapsed time\n",
    "elapsed_time = time.time() - start_time\n",
    "print(f\"\\n🚀 Training completed in {elapsed_time:.2f} seconds ({elapsed_time / 60:.2f} minutes)\")\n"
   ]
  },
  {
   "cell_type": "markdown",
   "metadata": {},
   "source": [
    "## EASY OCR "
   ]
  },
  {
   "cell_type": "markdown",
   "metadata": {},
   "source": [
    "### ICDAR 2015 DATASET"
   ]
  },
  {
   "cell_type": "code",
   "execution_count": null,
   "metadata": {},
   "outputs": [],
   "source": []
  }
 ],
 "metadata": {
  "kernelspec": {
   "display_name": "Python 3",
   "language": "python",
   "name": "python3"
  },
  "language_info": {
   "codemirror_mode": {
    "name": "ipython",
    "version": 3
   },
   "file_extension": ".py",
   "mimetype": "text/x-python",
   "name": "python",
   "nbconvert_exporter": "python",
   "pygments_lexer": "ipython3",
   "version": "3.12.9"
  }
 },
 "nbformat": 4,
 "nbformat_minor": 2
}
