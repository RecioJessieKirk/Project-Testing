{
 "cells": [
  {
   "cell_type": "markdown",
   "metadata": {},
   "source": [
    "## YOLOV5 FINE TUNING"
   ]
  },
  {
   "cell_type": "markdown",
   "metadata": {},
   "source": [
    "### COCO DATASET"
   ]
  },
  {
   "cell_type": "code",
   "execution_count": null,
   "metadata": {},
   "outputs": [],
   "source": [
    "import subprocess\n",
    "import re\n",
    "import time\n",
    "from tqdm import tqdm\n",
    "\n",
    "# Set paths\n",
    "DATASET_YAML = \"dataset.yaml\"  # Update this if your dataset.yaml is in a different location\n",
    "MODEL_PATH = \"yolov5nu.pt\"  # Path to your pre-trained YOLOv5 model\n",
    "EPOCHS = 100  # Number of training epochs (adjust as needed)\n",
    "BATCH_SIZE = 16  # Adjust based on your GPU memory\n",
    "IMG_SIZE = 640  # Input image size (default: 640x640)\n",
    "DEVICE = \"cuda\"  # Set to \"cpu\" if you don’t have a GPU\n",
    "\n",
    "# Training command\n",
    "command = [\n",
    "    \"python\", \"yolov5/train.py\",\n",
    "    \"--img\", str(IMG_SIZE),\n",
    "    \"--batch\", str(BATCH_SIZE),\n",
    "    \"--epochs\", str(EPOCHS),\n",
    "    \"--data\", DATASET_YAML,\n",
    "    \"--weights\", MODEL_PATH,\n",
    "    \"--device\", DEVICE,\n",
    "    \"--workers\", \"4\"\n",
    "]\n",
    "\n",
    "# Initialize tqdm progress bar\n",
    "pbar = tqdm(total=EPOCHS, desc=\"Training Progress\", unit=\"epoch\", dynamic_ncols=True)\n",
    "\n",
    "# Start training process\n",
    "start_time = time.time()\n",
    "with subprocess.Popen(command, stdout=subprocess.PIPE, stderr=subprocess.STDOUT, text=True, bufsize=1) as process:\n",
    "    for line in process.stdout:\n",
    "        print(line, end=\"\")  # Print training logs in real-time\n",
    "\n",
    "        # Match YOLOv5 epoch progress using regex (e.g., \"10/100\" for epoch 10 out of 100)\n",
    "        match = re.search(r\"(\\d+)/(\\d+)\", line)\n",
    "        if match:\n",
    "            current_epoch = int(match.group(1))\n",
    "            total_epochs = int(match.group(2))\n",
    "\n",
    "            # Update tqdm progress bar\n",
    "            pbar.n = current_epoch\n",
    "            elapsed_time = time.time() - start_time\n",
    "            avg_time_per_epoch = elapsed_time / max(1, current_epoch)\n",
    "            remaining_time = avg_time_per_epoch * (total_epochs - current_epoch)\n",
    "\n",
    "            pbar.set_description(f\"Training Progress ⏳ {remaining_time:.2f} sec remaining\")\n",
    "            pbar.update(0)  # Refresh tqdm without incrementing\n",
    "\n",
    "pbar.close()\n",
    "print(\"\\n✅ Training completed!\")\n"
   ]
  },
  {
   "cell_type": "markdown",
   "metadata": {},
   "source": [
    "### POTHOLE DATASET"
   ]
  },
  {
   "cell_type": "code",
   "execution_count": null,
   "metadata": {},
   "outputs": [],
   "source": [
    "import subprocess\n",
    "import re\n",
    "import time\n",
    "from tqdm import tqdm\n",
    "\n",
    "# Set paths\n",
    "DATASET_YAML = \"pothole.yaml\"  # Make sure this points to your dataset.yaml\n",
    "MODEL_PATH = \"yolov5nu.pt\"  # Your pre-trained YOLOv5 model\n",
    "EPOCHS = 100  # Adjust epochs as needed\n",
    "BATCH_SIZE = 16  # Modify based on your GPU memory\n",
    "IMG_SIZE = 640  # Input image size (default: 640x640)\n",
    "DEVICE = \"cuda\" \n",
    "\n",
    "# Training command\n",
    "command = [\n",
    "    \"python\", \"yolov5/train.py\",\n",
    "    \"--img\", str(IMG_SIZE),\n",
    "    \"--batch\", str(BATCH_SIZE),\n",
    "    \"--epochs\", str(EPOCHS),\n",
    "    \"--data\", DATASET_YAML,\n",
    "    \"--weights\", MODEL_PATH,\n",
    "    \"--device\", DEVICE,\n",
    "    \"--workers\", \"4\"\n",
    "]\n",
    "\n",
    "# Initialize tqdm progress bar\n",
    "pbar = tqdm(total=EPOCHS, desc=\"Training Progress\", unit=\"epoch\", dynamic_ncols=True)\n",
    "\n",
    "# Start training process\n",
    "start_time = time.time()\n",
    "with subprocess.Popen(command, stdout=subprocess.PIPE, stderr=subprocess.STDOUT, text=True, bufsize=1) as process:\n",
    "    for line in process.stdout:\n",
    "        print(line, end=\"\")  # Print training logs in real-time\n",
    "\n",
    "        # Match YOLOv5 epoch progress using regex (e.g., \"10/100\" for epoch 10 out of 100)\n",
    "        match = re.search(r\"(\\d+)/(\\d+)\", line)\n",
    "        if match:\n",
    "            current_epoch = int(match.group(1))\n",
    "            total_epochs = int(match.group(2))\n",
    "\n",
    "            # Update tqdm progress bar\n",
    "            pbar.n = current_epoch\n",
    "            elapsed_time = time.time() - start_time\n",
    "            avg_time_per_epoch = elapsed_time / max(1, current_epoch)\n",
    "            remaining_time = avg_time_per_epoch * (total_epochs - current_epoch)\n",
    "\n",
    "            pbar.set_description(f\"Training Progress ⏳ {remaining_time:.2f} sec remaining\")\n",
    "            pbar.update(0)  # Refresh tqdm without incrementing\n",
    "\n",
    "pbar.close()\n",
    "print(\"\\n✅ Training completed!\")\n"
   ]
  },
  {
   "cell_type": "markdown",
   "metadata": {},
   "source": [
    "## EASY OCR "
   ]
  },
  {
   "cell_type": "markdown",
   "metadata": {},
   "source": [
    "### ICDAR 2015 DATASET"
   ]
  },
  {
   "cell_type": "code",
   "execution_count": null,
   "metadata": {},
   "outputs": [],
   "source": []
  }
 ],
 "metadata": {
  "kernelspec": {
   "display_name": "Python 3",
   "language": "python",
   "name": "python3"
  },
  "language_info": {
   "name": "python",
   "version": "3.12.9"
  }
 },
 "nbformat": 4,
 "nbformat_minor": 2
}
